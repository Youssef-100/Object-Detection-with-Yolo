{
 "cells": [
  {
   "cell_type": "code",
   "execution_count": null,
   "metadata": {},
   "outputs": [],
   "source": [
    "%pip install ultralytics==8.0.26\n",
    "%pip install hydra-core>=1.2.0 matplotlib>=3.2.2 numpy>=1.18.5 opencv-python==4.5.4.60 Pillow>=7.1.2 PyYAML>=5.3.1 requests>=2.23.0 scipy>=1.4.1 torch>=1.7.0 torchvision>=0.8.1 tqdm>=4.64.0 filterpy==1.4.5 scikit-image==0.19.3 lap==0.4.0"
   ]
  },
  {
   "cell_type": "code",
   "execution_count": 1,
   "metadata": {},
   "outputs": [],
   "source": [
    "from ultralytics import YOLO\n",
    "import cv2 as cv\n",
    "import  cvzone\n",
    "import math\n"
   ]
  },
  {
   "cell_type": "code",
   "execution_count": null,
   "metadata": {},
   "outputs": [],
   "source": [
    "#cap=cv.VideoCapture(0) #for webcam\n",
    "cap=cv.VideoCapture(\"C:/Users/Yousef/Desktop/Project 1/bikes.mp4\") #for video\n",
    "\n",
    "cap.set(3,1280) #width\n",
    "cap.set(4,720) #height\n",
    "\n",
    "#YOLO model\n",
    "model=YOLO('yolov8n.pt') \n",
    "\n",
    "#classes\n",
    "classNames= ['person' ,'bicycle', 'car', 'motorcycle', 'airplane', 'bs', 'train', 'trck', 'boat', 'traffic light', 'fire hydrant', 'stop sign', 'parking meter', 'bench', 'bird', 'cat', 'dog', 'horse', 'sheep', 'cow', 'elephant', 'bear', 'zebra', 'giraffe', 'backpack', 'mbrella', 'handbag', 'tie', 'sitcase', 'frisbee', 'skis', 'snowboard', 'sports ball', 'kite', 'baseball bat', 'baseball glove', 'skateboard', 'srfboard', 'tennis racket', 'bottle', 'wine glass', 'cp', 'fork', 'knife', 'spoon', 'bowl', 'banana', 'apple', 'sandwich', 'orange', 'broccoli', 'carrot', 'hot dog', 'pizza', 'dont', 'cake', 'chair', 'coch', 'potted plant', 'bed', 'dining table', 'toilet', 'tv', 'laptop', 'mose', 'remote', 'keyboard', 'cell phone', 'microwave', 'oven', 'toaster', 'sink', 'refrigerator', 'book', 'clock', 'vase', 'scissors', 'teddy bear', 'hair drier', 'toothbrsh']\n",
    "  \n",
    "#Bounding box\n",
    "while True:\n",
    "    success,img=cap.read()\n",
    "    results=model(img,stream=True)\n",
    "    for r in results:\n",
    "        boxes=r.boxes\n",
    "        for box in boxes:\n",
    "            x1,y1,x2,y2=box.xyxy[0]\n",
    "            x1=int(x1)\n",
    "            y1=int(y1)\n",
    "            x2=int(x2)\n",
    "            y2=int(y2)\n",
    "            print(x1,y1,x2,y2)\n",
    "            w,h=int(x2-x1),int(y2-y1)\n",
    "            #cv.rectangle(img,(x1,y1),(x2,y2),(0,255,0),2)\n",
    "            cvzone.cornerRect(img,(x1,y1,w,h))\n",
    "            conf=math.ceil((box.conf[0]*100))/100\n",
    "            print(conf)\n",
    "            cls=int(box.cls[0])\n",
    "            cvzone.putTextRect(img,f\"{classNames[cls]} {conf}\",(max(0,x1),max(50,y1)))\n",
    "            \n",
    "    #Plotting\n",
    "    cv.imshow(\"Image\",img)\n",
    "    cv.waitKey(1)\n",
    "\n"
   ]
  },
  {
   "cell_type": "code",
   "execution_count": 58,
   "metadata": {},
   "outputs": [
    {
     "name": "stdout",
     "output_type": "stream",
     "text": [
      "Help on built-in function set:\n",
      "\n",
      "set(...) method of cv2.VideoCapture instance\n",
      "    set(propId, value) -> retval\n",
      "    .   @brief Sets a property in the VideoCapture.\n",
      "    .   \n",
      "    .       @param propId Property identifier from cv::VideoCaptureProperties (eg. cv::CAP_PROP_POS_MSEC, cv::CAP_PROP_POS_FRAMES, ...)\n",
      "    .       or one from @ref videoio_flags_others\n",
      "    .       @param value Value of the property.\n",
      "    .       @return `true` if the property is supported by backend used by the VideoCapture instance.\n",
      "    .       @note Even if it returns `true` this doesn't ensure that the property\n",
      "    .       value has been accepted by the capture device. See note in VideoCapture::get()\n",
      "\n"
     ]
    }
   ],
   "source": []
  }
 ],
 "metadata": {
  "kernelspec": {
   "display_name": "project",
   "language": "python",
   "name": "python3"
  },
  "language_info": {
   "codemirror_mode": {
    "name": "ipython",
    "version": 3
   },
   "file_extension": ".py",
   "mimetype": "text/x-python",
   "name": "python",
   "nbconvert_exporter": "python",
   "pygments_lexer": "ipython3",
   "version": "3.10.13"
  }
 },
 "nbformat": 4,
 "nbformat_minor": 2
}
